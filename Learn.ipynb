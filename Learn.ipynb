{
 "cells": [
  {
   "cell_type": "markdown",
   "id": "e99b67c4-30d7-4053-911b-bf3639a71074",
   "metadata": {
    "jp-MarkdownHeadingCollapsed": true
   },
   "source": [
    "import seaborn as sns\n",
    "import matplotlib.pyplot as plt\n",
    "\n",
    "# -------------------- BAR PLOT --------------------\n",
    "fig, ax = plt.subplots(figsize=(6,4))\n",
    "sns.barplot(data=df, x='category', y='value', palette='Set2', ax=ax)\n",
    "ax.grid(True, axis='y', linestyle='--', linewidth=0.7, alpha=0.5)\n",
    "ax.set_title('Category vs Value')\n",
    "ax.set_xlabel('Category'); ax.set_ylabel('Value')\n",
    "ax.axhline(0, color='black', linewidth=1); ax.axvline(-0.5, color='black', linewidth=1)\n",
    "ax.legend(['Baseline'])\n",
    "fig.tight_layout(); plt.show()\n",
    "\n",
    "# -------------------- LINE PLOT --------------------\n",
    "fig, ax = plt.subplots(figsize=(6,4))\n",
    "sns.lineplot(data=df, x='date', y='metric', marker='o', ax=ax)\n",
    "ax.grid(True, linestyle='--', linewidth=0.6, alpha=0.6)\n",
    "ax.set_title('Metric over Time')\n",
    "ax.set_xlabel('Date'); ax.set_ylabel('Metric')\n",
    "ax.axhline(y=df.metric.mean(), color='red', linestyle='--', linewidth=1)\n",
    "ax.legend(['Metric', 'Mean'])\n",
    "fig.tight_layout(); plt.show()\n",
    "\n",
    "# -------------------- SCATTER PLOT --------------------\n",
    "fig, ax = plt.subplots(figsize=(6,4))\n",
    "sns.scatterplot(data=df, x='x_val', y='y_val', hue='group', style='group', ax=ax)\n",
    "ax.grid(True, linestyle=':')\n",
    "ax.set_title('Scatter of Y vs X')\n",
    "ax.set_xlabel('X'); ax.set_ylabel('Y')\n",
    "ax.axvline(x=df.x_val.mean(), color='grey', linestyle='--')\n",
    "ax.axhline(y=df.y_val.mean(), color='grey', linestyle='--')\n",
    "ax.legend(title='Group')\n",
    "fig.tight_layout(); plt.show()\n",
    "\n",
    "# -------------------- HISTOGRAM --------------------\n",
    "fig, ax = plt.subplots(figsize=(6,4))\n",
    "sns.histplot(data=df, x='age', bins=20, kde=True, ax=ax)\n",
    "ax.grid(True, axis='y', linestyle='--', alpha=0.5)\n",
    "ax.set_title('Age Distribution')\n",
    "ax.set_xlabel('Age'); ax.set_ylabel('Count')\n",
    "ax.axvline(x=df.age.mean(), color='red', linestyle='--')\n",
    "ax.legend(['Mean Age'])\n",
    "fig.tight_layout(); plt.show()\n",
    "\n",
    "# -------------------- BOX PLOT --------------------\n",
    "fig, ax = plt.subplots(figsize=(6,4))\n",
    "sns.boxplot(data=df, x='group', y='score', palette='Pastel1', ax=ax)\n",
    "ax.grid(True, axis='y', linestyle='--', alpha=0.5)\n",
    "ax.set_title('Score by Group')\n",
    "ax.set_xlabel('Group'); ax.set_ylabel('Score')\n",
    "ax.axhline(y=df.score.mean(), color='purple', linestyle='--')\n",
    "fig.tight_layout(); plt.show()\n",
    "\n",
    "# -------------------- HEATMAP --------------------\n",
    "corr = df.corr(numeric_only=True)\n",
    "fig, ax = plt.subplots(figsize=(6,5))\n",
    "sns.heatmap(corr, annot=True, fmt='.2f', cmap='coolwarm', ax=ax)\n",
    "ax.set_title('Correlation Matrix')\n",
    "fig.tight_layout(); plt.show()\n"
   ]
  },
  {
   "cell_type": "code",
   "execution_count": null,
   "id": "d0683eb2-4b4b-499a-bd32-0a26da681db2",
   "metadata": {},
   "outputs": [],
   "source": []
  }
 ],
 "metadata": {
  "kernelspec": {
   "display_name": "Python 3 (ipykernel)",
   "language": "python",
   "name": "python3"
  },
  "language_info": {
   "codemirror_mode": {
    "name": "ipython",
    "version": 3
   },
   "file_extension": ".py",
   "mimetype": "text/x-python",
   "name": "python",
   "nbconvert_exporter": "python",
   "pygments_lexer": "ipython3",
   "version": "3.13.2"
  }
 },
 "nbformat": 4,
 "nbformat_minor": 5
}
